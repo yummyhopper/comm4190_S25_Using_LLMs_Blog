{
 "cells": [
  {
   "cell_type": "raw",
   "id": "dd7fc2ef-c119-4bfe-933b-b66748155f3d",
   "metadata": {},
   "source": [
    "---\n",
    "title: \"A test post\"\n",
    "description: \"An example post from a Jupyter notebook\"\n",
    "author: \"An LLM User\"\n",
    "date: \"2/2/2024\"\n",
    "execute:\n",
    "  code-overflow: wrap\n",
    "categories:\n",
    "  - LLMs\n",
    "  - prompting\n",
    "  - logic\n",
    "---"
   ]
  },
  {
   "cell_type": "markdown",
   "id": "4c7b3235-8aae-4398-be8b-54c2e4e69c32",
   "metadata": {},
   "source": [
    "### This is my title"
   ]
  },
  {
   "cell_type": "code",
   "execution_count": 3,
   "id": "70adfb6e-13f9-41ee-8d79-2c8d99d88907",
   "metadata": {},
   "outputs": [
    {
     "name": "stdout",
     "output_type": "stream",
     "text": [
      "The comment uses hostile and derogatory language towards a group of people (Americans) by labeling them as 'invaders' and accusing them of 'raping and murdering' innocent people. This can be classified as hate speech as it attributes malicious actions to a group based on perceived characteristics.\n"
     ]
    }
   ],
   "source": [
    "print('''The comment uses hostile and derogatory language towards a group of people (Americans) by labeling them as 'invaders' and accusing them of 'raping and murdering' innocent people. This can be classified as hate speech as it attributes malicious actions to a group based on perceived characteristics.''')"
   ]
  },
  {
   "cell_type": "code",
   "execution_count": null,
   "id": "bc0d743b-8c7b-4e67-8b5a-1456d72d735a",
   "metadata": {},
   "outputs": [],
   "source": []
  }
 ],
 "metadata": {
  "kernelspec": {
   "display_name": "Python 3-12 (COMM4190)",
   "language": "python",
   "name": "python3-12_comm4190"
  },
  "language_info": {
   "codemirror_mode": {
    "name": "ipython",
    "version": 3
   },
   "file_extension": ".py",
   "mimetype": "text/x-python",
   "name": "python",
   "nbconvert_exporter": "python",
   "pygments_lexer": "ipython3",
   "version": "3.12.8"
  }
 },
 "nbformat": 4,
 "nbformat_minor": 5
}
